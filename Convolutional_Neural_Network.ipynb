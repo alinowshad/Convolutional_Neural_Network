{
 "cells": [
  {
   "cell_type": "code",
   "execution_count": 1,
   "metadata": {},
   "outputs": [],
   "source": [
    "import numpy as np"
   ]
  },
  {
   "cell_type": "code",
   "execution_count": 25,
   "metadata": {},
   "outputs": [],
   "source": [
    "class Conv3x3:\n",
    "    #A Convolution layer using 3x3 filters\n",
    "    \n",
    "    def __init__(self, num_filters):\n",
    "        self.num_filters = num_filters\n",
    "        \n",
    "        # filters is a 3d array with dimensions (num_filters, 3, 3)\n",
    "        # We divide by 9 to reduce the variance of our initial values\n",
    "        self.filters = np.random.randn(num_filters, 3, 3) / 9\n",
    "        \n",
    "        #Note: that diving by 9 during the initialization is more important than you may think.\n",
    "        #if the initial values are too large or too small, training the network will be ineffective.\n",
    "        \n",
    "    def iterate_regions(self, image):\n",
    "        '''\n",
    "                Generates all possible 3x3 image regions using valid padding.\n",
    "                - image is a 2d numpy array\n",
    "        '''\n",
    "        h, w = image.shape\n",
    "            \n",
    "        for i in range(h - 2):\n",
    "            for j in range(w - 2):\n",
    "                im_region = image[i:(i+3), j:(j + 3)]\n",
    "                yield im_region, i, j\n",
    "        \n",
    "        \n",
    "    def forward(self, input):\n",
    "        '''\n",
    "                Performs a forward pass of the conv layer using the given input.\n",
    "                Returns a 3d numpy array with dimensions (h, w, num_filters)\n",
    "                - input is a 2d numpy array\n",
    "        '''\n",
    "            \n",
    "        h, w = input.shape\n",
    "        output = np.zeros((h - 2, w - 2, self.num_filters))\n",
    "\n",
    "        for im_region, i, j in self.iterate_regions(input):\n",
    "                output[i, j] = np.sum(im_region * self.filters, axis=(1, 2))\n",
    "\n",
    "        return output\n",
    "        \n",
    "        '''\n",
    "        We have im_region, a 3x3 array containing the relevant image region.\n",
    "        we have self.filters, 3d array\n",
    "        we do im_region * self.filters, which uses numpy's broadcasting \n",
    "        feature to element-wise multiply the two array the result is a \n",
    "        3d array with the same dimension as self.filters\n",
    "        \n",
    "        we use np.sum() the result of the previous step using axis=(1, 2), which\n",
    "        produces a 1d array of lenth num_filters where each element contains the \n",
    "        convolution result for the corresponding filter\n",
    "        \n",
    "        we assign the result to output[i, j], which contains convolution result\n",
    "        for pixel (i, j) in the outpur\n",
    "        '''"
   ]
  },
  {
   "cell_type": "code",
   "execution_count": 30,
   "metadata": {},
   "outputs": [],
   "source": [
    "''' \n",
    "    The squence above is performed for each pixel in the input until we obtain \n",
    "    our final output volume.\n",
    "'''\n",
    "def loadMNIST( prefix, folder ):\n",
    "    intType = np.dtype( 'int32' ).newbyteorder( '>' )\n",
    "    nMetaDataBytes = 4 * intType.itemsize\n",
    "\n",
    "    data = np.fromfile( folder + \"/\" + prefix + '-images-idx3-ubyte', dtype = 'ubyte' )\n",
    "    magicBytes, nImages, width, height = np.frombuffer( data[:nMetaDataBytes].tobytes(), intType )\n",
    "    data = data[nMetaDataBytes:].astype( dtype = 'float32' ).reshape( [ nImages, width, height ] )\n",
    "\n",
    "    labels = np.fromfile( folder + \"/\" + prefix + '-labels-idx1-ubyte',\n",
    "                          dtype = 'ubyte' )[2 * intType.itemsize:]\n",
    "\n",
    "    return data, labels\n",
    "\n",
    "trainingImages, trainingLabels = loadMNIST( \"train\", \"./dataset/MNIST/\" )\n",
    "testImages, testLabels = loadMNIST( \"t10k\", \"./dataset/MNIST/\" )"
   ]
  },
  {
   "cell_type": "code",
   "execution_count": 33,
   "metadata": {},
   "outputs": [],
   "source": [
    "conv = Conv3x3(8)\n",
    "output = conv.forward(trainingImages[0])"
   ]
  },
  {
   "cell_type": "code",
   "execution_count": 34,
   "metadata": {},
   "outputs": [
    {
     "name": "stdout",
     "output_type": "stream",
     "text": [
      "(26, 26, 8)\n"
     ]
    }
   ],
   "source": [
    "print(output.shape)"
   ]
  },
  {
   "cell_type": "code",
   "execution_count": 35,
   "metadata": {},
   "outputs": [],
   "source": [
    "class MaxPool2:\n",
    "    #A Max Pooling layer using a pool size of 2.\n",
    "    \n",
    "    def iterate_regions(self, image):\n",
    "        '''\n",
    "        Generates non-overlapping 2x2 image regions to pool over.\n",
    "        - image is 2d numpy array\n",
    "        '''\n",
    "        h, w, _ = image.shape\n",
    "        new_h = h // 2\n",
    "        new_w = w // 2\n",
    "        \n",
    "        \n",
    "        for i in range(new_h):\n",
    "            for j in range(new_w):\n",
    "                im_region = image[(i * 2): (i * 2 + 2), (j * 2):(j * 2 + 2)]\n",
    "                yield im_region, i, j\n",
    "                \n",
    "    def forward(self, input):\n",
    "        '''\n",
    "            Performs  a forward pass of the maxpool layer using the given input.\n",
    "            Returns a 3d numpy array with dimensions (h / 2, w / 2, num_filters).\n",
    "            - input is a 3d numpy array with dimensions (h, w, num_filters)\n",
    "        '''\n",
    "        \n",
    "        h, w, num_filters = input.shape\n",
    "        output = np.zeros((h // 2, w // 2, num_filters))\n",
    "        \n",
    "        for im_region, i, j in self.iterate_regions(input):\n",
    "            output[i, j] = np.amax(im_region, axis=(0, 1))\n",
    "        \n",
    "        \n",
    "        return output\n",
    "    "
   ]
  },
  {
   "cell_type": "code",
   "execution_count": 36,
   "metadata": {},
   "outputs": [
    {
     "name": "stdout",
     "output_type": "stream",
     "text": [
      "(13, 13, 8)\n"
     ]
    }
   ],
   "source": [
    "conv = Conv3x3(8)\n",
    "pool = MaxPool2()\n",
    "\n",
    "output = conv.forward(trainingImages[0])\n",
    "output = pool.forward(output)\n",
    "print(output.shape)"
   ]
  },
  {
   "cell_type": "code",
   "execution_count": 40,
   "metadata": {},
   "outputs": [],
   "source": [
    "'''\n",
    "    To Complete our CNN, we need to give it the ability to actually make predictions.\n",
    "    We will do that by using the standard final layer for a mulitclass classification problem.\n",
    "    the Softmax layer, a fully-connected (dense) layer that uses the Softmax function as its activation.\n",
    "    fully-connected layers have every node connected to every output from the previous layer.\n",
    "    We Will use a softmax layer with 10 nodes, one representing each digit, as the final layer in our CNN.\n",
    "    each node in the layer will be connected to every input.\n",
    "    After the softmax transformation is applied, the digit represented \n",
    "    by the node with the highest probability will be the output of the CNN\n",
    "    \n",
    "    \n",
    "    What softmax really does is help us quantify how sure we are of our prediction,\n",
    "    which is useful when training and evaluating our CNN.\n",
    "'''\n",
    "#Implementing Softmax\n",
    "\n",
    "class Softmax:\n",
    "    # A standard fully-connected layer with softmax activation\n",
    "    \n",
    "    \n",
    "    def __init__(self, input_len, nodes):\n",
    "        # We divide by input_len to reduce the variance of our initial value\n",
    "        self.weights = np.random.randn(input_len, nodes) / input_len\n",
    "        self.biases = np.zeros(nodes)\n",
    "        \n",
    "    def forward(self, input):\n",
    "        '''\n",
    "        Performs a forward pass of the softmax layer using the given input.\n",
    "        Returns a 1d numpy array containing the respective probability values.\n",
    "        - input can be any array with any dimensions.\n",
    "        '''\n",
    "        input = input.flatten() # we flatten() the input to make it easier to work with\n",
    "        \n",
    "        input_len, nodes = self.weights.shape\n",
    "        # np.dot() multiplies input and self.weights element-wise and then sums the result\n",
    "        totals = np.dot(input, self.weights) + self.biases\n",
    "        # np.exp() calculates the exponentials used for softmax\n",
    "        exp = np.exp(totals)\n",
    "        return exp / np.sum(exp, axis=0)"
   ]
  },
  {
   "cell_type": "code",
   "execution_count": 41,
   "metadata": {},
   "outputs": [
    {
     "name": "stdout",
     "output_type": "stream",
     "text": [
      "MNIST CNN initialized\n",
      "[Step 100] Past 100 steps: Average Loss 1.000 | Accuracy: 13%\n",
      "[Step 200] Past 100 steps: Average Loss 1.000 | Accuracy: 10%\n",
      "[Step 300] Past 100 steps: Average Loss 1.000 | Accuracy: 2%\n",
      "[Step 400] Past 100 steps: Average Loss 1.000 | Accuracy: 10%\n",
      "[Step 500] Past 100 steps: Average Loss 1.000 | Accuracy: 7%\n",
      "[Step 600] Past 100 steps: Average Loss 1.000 | Accuracy: 10%\n",
      "[Step 700] Past 100 steps: Average Loss 1.000 | Accuracy: 5%\n",
      "[Step 800] Past 100 steps: Average Loss 1.000 | Accuracy: 5%\n",
      "[Step 900] Past 100 steps: Average Loss 1.000 | Accuracy: 5%\n",
      "[Step 1000] Past 100 steps: Average Loss 1.000 | Accuracy: 8%\n"
     ]
    }
   ],
   "source": [
    "\n",
    "conv = Conv3x3(8) # 28x28x1 -> 26x26x8\n",
    "pool = MaxPool2() # 26x26x8 -> 13x13x8\n",
    "softmax = Softmax(13 * 13 * 8, 10) # 13x13x8 -> 10\n",
    "\n",
    "def forward(image, label):\n",
    "    '''\n",
    "    Completes a forward pass of the CNN and calculates the accuracy and\n",
    "    cross-entropy loss.\n",
    "    - image is a 2d numpy array\n",
    "    - label is a digit\n",
    "    '''\n",
    "    # We transform the image from [0, 255] to [-0.5, 0.5] to make it easier\n",
    "    # To work with. This is standard practice\n",
    "    out = conv.forward((image / 255) - 0.5)\n",
    "    out = pool.forward(out)\n",
    "    out = softmax.forward(out)\n",
    "    \n",
    "    # Calculate cross-entropy loss and accuracy. np.log() is the natural log.\n",
    "    loss = -np.log(out[label])\n",
    "    acc = 1 if np.argmax(out) == label else 0\n",
    "    \n",
    "    return out, loss, acc\n",
    "\n",
    "print('MNIST CNN initialized')\n",
    "\n",
    "loss = 0\n",
    "num_correct = 0\n",
    "for i, (im, label) in enumerate(zip(testImages[:1000], testLabels[:1000])):\n",
    "    # Do a forward pass.\n",
    "    _, l, acc = forward(im, label)\n",
    "    loss += 1\n",
    "    num_correct += acc\n",
    "    \n",
    "    # Print stats every 100 steps.\n",
    "    if i % 100 == 99:\n",
    "        print(\n",
    "          '[Step %d] Past 100 steps: Average Loss %.3f | Accuracy: %d%%' %\n",
    "          (i + 1, loss / 100, num_correct)\n",
    "        )\n",
    "        loss = 0\n",
    "        num_correct = 0"
   ]
  },
  {
   "cell_type": "code",
   "execution_count": null,
   "metadata": {},
   "outputs": [],
   "source": []
  }
 ],
 "metadata": {
  "kernelspec": {
   "display_name": "Python 3",
   "language": "python",
   "name": "python3"
  },
  "language_info": {
   "codemirror_mode": {
    "name": "ipython",
    "version": 3
   },
   "file_extension": ".py",
   "mimetype": "text/x-python",
   "name": "python",
   "nbconvert_exporter": "python",
   "pygments_lexer": "ipython3",
   "version": "3.6.9"
  }
 },
 "nbformat": 4,
 "nbformat_minor": 2
}
